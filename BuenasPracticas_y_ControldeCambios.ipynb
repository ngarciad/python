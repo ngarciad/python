{
 "cells": [
  {
   "cell_type": "markdown",
   "id": "276f75fe",
   "metadata": {},
   "source": [
    "#Taller: Control de Cambios y Buenas Prácticas en Python "
   ]
  },
  {
   "cell_type": "markdown",
   "id": "151aa399",
   "metadata": {},
   "source": [
    "** Estilo y legibilidad**\n",
    "\n",
    " - Usa PEP 8 como guía (nombres en minúsculas con guiones bajos, sangría de 4 espacios).\n",
    " - Limita líneas a ~79 caracteres.\n",
    " - Nombres descriptivos de variables y funciones.\n",
    "\n",
    "** En Jupyter**\n",
    " - Alternar celdas de código y Markdown para explicar qué haces.\n",
    " - Usar títulos y subtítulos (#, ##, ###) para secciones.\n",
    " - Documentar funciones con docstrings.\n"
   ]
  },
  {
   "cell_type": "markdown",
   "id": "20b4f7f9",
   "metadata": {},
   "source": [
    "PASO 1: Configuración del entorno"
   ]
  },
  {
   "cell_type": "code",
   "execution_count": 2,
   "id": "5630dd40",
   "metadata": {},
   "outputs": [
    {
     "name": "stdout",
     "output_type": "stream",
     "text": [
      "Reinitialized existing Git repository in C:/Users/Nicolas Garcia/Documents/VisualStudioProject/Python Intermedio/.git/\n"
     ]
    }
   ],
   "source": [
    "'''  Control de cambios\n",
    " - Repositorio: Espacio donde se almacenará la historia de los cambios.\n",
    " - Commit: Comentario del cambio a guardar.\n",
    " - Branch: Línea de desarrollo\n",
    " - Pull / Push: Descargar y subir los cambios al repositorio (Github, GitLab, kagle)\n",
    " - Se trabaja en Jupyter o Terminal\n",
    "'''\n",
    "#Lineas de configuración del entorno de programación git\n",
    "!git init \n",
    "!git config --global user.name \"Nicolas.Garcia\"\n",
    "!git config --global user.email \"ngarciad@gmail.com\"\n"
   ]
  },
  {
   "cell_type": "markdown",
   "id": "253a70f2",
   "metadata": {},
   "source": [
    "PASO 2: Preparar el entorno de trabajo"
   ]
  },
  {
   "cell_type": "code",
   "execution_count": 5,
   "id": "2176e099",
   "metadata": {},
   "outputs": [
    {
     "name": "stdout",
     "output_type": "stream",
     "text": [
      "Entorno listo\n"
     ]
    }
   ],
   "source": [
    "#Ejemplo:\n",
    "import pandas as pd\n",
    "import numpy as np\n",
    "\n",
    "print(\"Entorno listo\")\n",
    "\n",
    "\n",
    "\n"
   ]
  },
  {
   "cell_type": "markdown",
   "id": "15031f4f",
   "metadata": {},
   "source": [
    "PASO 3: Desarrollo y pruebas"
   ]
  },
  {
   "cell_type": "code",
   "execution_count": 6,
   "id": "c58adb40",
   "metadata": {},
   "outputs": [
    {
     "data": {
      "text/html": [
       "<div>\n",
       "<style scoped>\n",
       "    .dataframe tbody tr th:only-of-type {\n",
       "        vertical-align: middle;\n",
       "    }\n",
       "\n",
       "    .dataframe tbody tr th {\n",
       "        vertical-align: top;\n",
       "    }\n",
       "\n",
       "    .dataframe thead th {\n",
       "        text-align: right;\n",
       "    }\n",
       "</style>\n",
       "<table border=\"1\" class=\"dataframe\">\n",
       "  <thead>\n",
       "    <tr style=\"text-align: right;\">\n",
       "      <th></th>\n",
       "      <th>Producto</th>\n",
       "      <th>Precio</th>\n",
       "    </tr>\n",
       "  </thead>\n",
       "  <tbody>\n",
       "    <tr>\n",
       "      <th>0</th>\n",
       "      <td>Pera</td>\n",
       "      <td>1500</td>\n",
       "    </tr>\n",
       "    <tr>\n",
       "      <th>1</th>\n",
       "      <td>Fresa</td>\n",
       "      <td>2000</td>\n",
       "    </tr>\n",
       "    <tr>\n",
       "      <th>2</th>\n",
       "      <td>Mango</td>\n",
       "      <td>800</td>\n",
       "    </tr>\n",
       "  </tbody>\n",
       "</table>\n",
       "</div>"
      ],
      "text/plain": [
       "  Producto  Precio\n",
       "0     Pera    1500\n",
       "1    Fresa    2000\n",
       "2    Mango     800"
      ]
     },
     "execution_count": 6,
     "metadata": {},
     "output_type": "execute_result"
    }
   ],
   "source": [
    "df= pd.DataFrame({\"Producto\": [\"Pera\", \"Fresa\", \"Mango\"],\n",
    "                  \"Precio\": [1500, 2000, 800]\n",
    "})\n",
    "df"
   ]
  },
  {
   "cell_type": "markdown",
   "id": "fb2eb9cd",
   "metadata": {},
   "source": [
    "PASO 4: Guardar cambios "
   ]
  },
  {
   "cell_type": "code",
   "execution_count": 16,
   "id": "4ee936bc",
   "metadata": {},
   "outputs": [
    {
     "name": "stdout",
     "output_type": "stream",
     "text": [
      "On branch master\n",
      "Changes not staged for commit:\n",
      "  (use \"git add <file>...\" to update what will be committed)\n",
      "  (use \"git restore <file>...\" to discard changes in working directory)\n",
      "\tmodified:   BuenasPracticas_y_ControldeCambios.ipynb\n",
      "\n",
      "no changes added to commit (use \"git add\" and/or \"git commit -a\")\n"
     ]
    },
    {
     "name": "stderr",
     "output_type": "stream",
     "text": [
      "warning: in the working copy of 'BuenasPracticas_y_ControldeCambios.ipynb', LF will be replaced by CRLF the next time Git touches it\n"
     ]
    },
    {
     "name": "stdout",
     "output_type": "stream",
     "text": [
      "[master 2e1502f] Primer commit: Estructura inicial\n",
      " 1 file changed, 48 insertions(+), 39 deletions(-)\n"
     ]
    }
   ],
   "source": [
    "!git status\n",
    "!git add .\n",
    "!git commit -m \"Primer commit: Estructura inicial\""
   ]
  },
  {
   "cell_type": "markdown",
   "id": "a7426430",
   "metadata": {},
   "source": [
    "PASO 5: Crear una nueva rama para el desarrollo"
   ]
  },
  {
   "cell_type": "code",
   "execution_count": 8,
   "id": "e9d2f7b6",
   "metadata": {},
   "outputs": [
    {
     "name": "stderr",
     "output_type": "stream",
     "text": [
      "fatal: a branch named 'limpieza_datos' already exists\n",
      "error: Your local changes to the following files would be overwritten by checkout:\n",
      "\tBuenasPracticas_y_ControldeCambios.ipynb\n",
      "Please commit your changes or stash them before you switch branches.\n",
      "Aborting\n"
     ]
    }
   ],
   "source": [
    "!git branch limpieza_datos\n",
    "!git checkout limpieza_datos"
   ]
  },
  {
   "cell_type": "markdown",
   "id": "30c76ab6",
   "metadata": {},
   "source": [
    "PASO 6: Integrar"
   ]
  },
  {
   "cell_type": "code",
   "execution_count": 9,
   "id": "2d2c5856",
   "metadata": {},
   "outputs": [
    {
     "name": "stdout",
     "output_type": "stream",
     "text": [
      "M\tBuenasPracticas_y_ControldeCambios.ipynb\n"
     ]
    },
    {
     "name": "stderr",
     "output_type": "stream",
     "text": [
      "Already on 'master'\n"
     ]
    },
    {
     "name": "stdout",
     "output_type": "stream",
     "text": [
      "Already up to date.\n"
     ]
    }
   ],
   "source": [
    "!git checkout master\n",
    "!git merge limpieza_datos"
   ]
  },
  {
   "cell_type": "markdown",
   "id": "a163ced6",
   "metadata": {},
   "source": [
    "PASO 7: Subir cambios al repositorio GitHub"
   ]
  },
  {
   "cell_type": "code",
   "execution_count": 24,
   "id": "fc3a64e6",
   "metadata": {},
   "outputs": [
    {
     "name": "stdout",
     "output_type": "stream",
     "text": [
      "Your branch is up to date with 'origin/limpieza_datos'.\n"
     ]
    },
    {
     "name": "stderr",
     "output_type": "stream",
     "text": [
      "Switched to branch 'limpieza_datos'\n"
     ]
    },
    {
     "name": "stdout",
     "output_type": "stream",
     "text": [
      "branch 'limpieza_datos' set up to track 'origin/limpieza_datos'.\n"
     ]
    },
    {
     "name": "stderr",
     "output_type": "stream",
     "text": [
      "Everything up-to-date\n"
     ]
    }
   ],
   "source": [
    "#!git remote -v #Conoce el repositorio remoto\n",
    "#!git branch # Conce las ramas locales\n",
    "\n",
    "#Agregar archivos y el commit respectivo\n",
    "# !git add . \n",
    "#!git commit -m \"Versión Inicial\"\n",
    "\n",
    "#!git status #Muestra si se tiene cambios listos\n",
    "\n",
    "# Renombrar la rama principal de master a main\n",
    "#!git branch -M main\n",
    "\n",
    "#Subir la rama main al remoto, esto hace que la rama main sea la principal tanto local como remoto\n",
    "#!git push -u origin main\n",
    "\n",
    "#Se sube la rama secundaria limpieza-datos\n",
    "!git checkout limpieza_datos\n",
    "!git push -u origin limpieza_datos\n",
    "\n",
    "\n"
   ]
  },
  {
   "cell_type": "code",
   "execution_count": null,
   "id": "cfdf86fc",
   "metadata": {},
   "outputs": [],
   "source": [
    "!git remote add origin \"https://github.com/ngarciad/python\"\n",
    "!git push -u origin principal\n"
   ]
  },
  {
   "cell_type": "code",
   "execution_count": null,
   "id": "f3439177",
   "metadata": {},
   "outputs": [],
   "source": []
  },
  {
   "cell_type": "code",
   "execution_count": null,
   "id": "f03100c6",
   "metadata": {},
   "outputs": [],
   "source": []
  },
  {
   "cell_type": "code",
   "execution_count": null,
   "id": "66df2b5d",
   "metadata": {},
   "outputs": [],
   "source": []
  },
  {
   "cell_type": "code",
   "execution_count": null,
   "id": "cb275f2d",
   "metadata": {},
   "outputs": [],
   "source": []
  },
  {
   "cell_type": "code",
   "execution_count": null,
   "id": "4c8ab672",
   "metadata": {},
   "outputs": [],
   "source": []
  },
  {
   "cell_type": "code",
   "execution_count": null,
   "id": "ba49b857",
   "metadata": {},
   "outputs": [],
   "source": [
    "url = \"https://raw.githubusercontent.com/selva86/datasets/master/bank-full.csv\"\n",
    "df = pd.read_csv(url, sep=';')"
   ]
  }
 ],
 "metadata": {
  "kernelspec": {
   "display_name": "Python 3",
   "language": "python",
   "name": "python3"
  },
  "language_info": {
   "codemirror_mode": {
    "name": "ipython",
    "version": 3
   },
   "file_extension": ".py",
   "mimetype": "text/x-python",
   "name": "python",
   "nbconvert_exporter": "python",
   "pygments_lexer": "ipython3",
   "version": "3.13.2"
  }
 },
 "nbformat": 4,
 "nbformat_minor": 5
}
