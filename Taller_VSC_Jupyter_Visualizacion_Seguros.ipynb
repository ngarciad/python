{
 "cells": [
  {
   "cell_type": "markdown",
   "id": "b56b4dd3",
   "metadata": {},
   "source": [
    "\n",
    "# Taller de Visualización y Análisis Exploratorio — Seguros (VSC + Jupyter)\n",
    "\n",
    "**Dataset:** `seguros.csv` (columnas: `age`, `sex`, `bmi`, `children`, `smoker`, `region`, `charges`)\n",
    "\n",
    "Este cuaderno está diseñado para ejecutarse en **Visual Studio Code** con la extensión de **Jupyter**.\n",
    "Incluye pasos guiados, buenas prácticas, múltiples gráficos y **retos** para practicar.\n",
    "\n",
    "> Sugerencia: Coloca este `.ipynb` en la misma carpeta donde está `seguros.csv`.\n"
   ]
  },
  {
   "cell_type": "markdown",
   "id": "9efed2ec",
   "metadata": {},
   "source": [
    "## 1) Preparación del entorno"
   ]
  },
  {
   "cell_type": "code",
   "execution_count": null,
   "id": "59a87cee",
   "metadata": {},
   "outputs": [],
   "source": []
  },
  {
   "cell_type": "code",
   "execution_count": null,
   "id": "6bd9f3eb",
   "metadata": {},
   "outputs": [],
   "source": [
    "\n",
    "# Si necesitas instalar paquetes (ejecuta una sola vez desde una celda):\n",
    "# !pip install pandas matplotlib seaborn\n",
    "\n",
    "import pandas as pd\n",
    "import numpy as np\n",
    "import matplotlib.pyplot as plt\n",
    "import seaborn as sns\n",
    "\n",
    "# Opcional: estilo por defecto (seaborn)\n",
    "sns.set()\n",
    "pd.set_option(\"display.float_format\", lambda x: f\"{x:,.2f}\")\n"
   ]
  },
  {
   "cell_type": "markdown",
   "id": "95d1c2fd",
   "metadata": {},
   "source": [
    "## 2) Carga del dataset"
   ]
  },
  {
   "cell_type": "code",
   "execution_count": null,
   "id": "06509de0",
   "metadata": {},
   "outputs": [],
   "source": [
    "\n",
    "# Ruta al archivo\n",
    "PATH = \"seguros.csv\"  # Ajusta si tu archivo está en otra ruta\n",
    "\n",
    "# Cargar\n",
    "df = pd.read_csv(PATH)\n",
    "\n",
    "# Vistazo inicial\n",
    "print(df.shape)\n",
    "df.head()\n"
   ]
  },
  {
   "cell_type": "markdown",
   "id": "f3e579c3",
   "metadata": {},
   "source": [
    "## 3) Exploración inicial: tipos, nulos, duplicados, estadísticos"
   ]
  },
  {
   "cell_type": "code",
   "execution_count": null,
   "id": "2571a7a0",
   "metadata": {},
   "outputs": [],
   "source": [
    "\n",
    "df.info()\n"
   ]
  },
  {
   "cell_type": "code",
   "execution_count": null,
   "id": "59930e31",
   "metadata": {},
   "outputs": [],
   "source": [
    "\n",
    "# Nulos y duplicados\n",
    "print(\"Nulos por columna:\")\n",
    "print(df.isna().sum())\n",
    "\n",
    "print(\"\\nDuplicados:\", df.duplicated().sum())\n"
   ]
  },
  {
   "cell_type": "code",
   "execution_count": null,
   "id": "eca9a993",
   "metadata": {},
   "outputs": [],
   "source": [
    "\n",
    "# Estadísticos descriptivos básicos\n",
    "df.describe(include=\"all\")\n"
   ]
  },
  {
   "cell_type": "markdown",
   "id": "e771c5f4",
   "metadata": {},
   "source": [
    "\n",
    "## 4) Limpieza mínima y variables derivadas\n",
    "\n",
    "- Normalizamos categorías (opcional).\n",
    "- Creamos categorías de IMC (OMS) para segmentar gráficos.\n"
   ]
  },
  {
   "cell_type": "code",
   "execution_count": null,
   "id": "1864ee40",
   "metadata": {},
   "outputs": [],
   "source": [
    "\n",
    "# Asegurar minúsculas en categorías\n",
    "df[\"sex\"] = df[\"sex\"].str.lower()\n",
    "df[\"smoker\"] = df[\"smoker\"].str.lower()\n",
    "df[\"region\"] = df[\"region\"].str.lower()\n",
    "\n",
    "# Buckets de BMI según OMS aproximado\n",
    "def bmi_bucket(bmi):\n",
    "    if bmi < 18.5: return \"Bajo peso\"\n",
    "    if bmi < 25:   return \"Normal\"\n",
    "    if bmi < 30:   return \"Sobrepeso\"\n",
    "    return \"Obesidad\"\n",
    "\n",
    "df[\"bmi_cat\"] = df[\"bmi\"].apply(bmi_bucket)\n",
    "df.head()\n"
   ]
  },
  {
   "cell_type": "markdown",
   "id": "d5753552",
   "metadata": {},
   "source": [
    "## 5) Visualizaciones univariadas"
   ]
  },
  {
   "cell_type": "code",
   "execution_count": null,
   "id": "5b1c185b",
   "metadata": {},
   "outputs": [],
   "source": [
    "\n",
    "# Histograma de 'charges'\n",
    "plt.figure()\n",
    "plt.hist(df[\"charges\"], bins=30)\n",
    "plt.title(\"Distribución de 'charges'\")\n",
    "plt.xlabel(\"charges\"); plt.ylabel(\"frecuencia\")\n",
    "plt.show()\n"
   ]
  },
  {
   "cell_type": "code",
   "execution_count": null,
   "id": "61f419cf",
   "metadata": {},
   "outputs": [],
   "source": [
    "\n",
    "# Histograma de 'bmi'\n",
    "plt.figure()\n",
    "plt.hist(df[\"bmi\"], bins=30)\n",
    "plt.title(\"Distribución de 'bmi'\")\n",
    "plt.xlabel(\"bmi\"); plt.ylabel(\"frecuencia\")\n",
    "plt.show()\n"
   ]
  },
  {
   "cell_type": "code",
   "execution_count": null,
   "id": "191d963d",
   "metadata": {},
   "outputs": [],
   "source": [
    "\n",
    "# Barras de conteo para categóricas\n",
    "plt.figure()\n",
    "df[\"smoker\"].value_counts().plot(kind=\"bar\")\n",
    "plt.title(\"Conteo de fumadores vs no fumadores\")\n",
    "plt.xlabel(\"smoker\"); plt.ylabel(\"conteo\")\n",
    "plt.show()\n"
   ]
  },
  {
   "cell_type": "markdown",
   "id": "8bb867a6",
   "metadata": {},
   "source": [
    "## 6) Visualizaciones bivariadas"
   ]
  },
  {
   "cell_type": "code",
   "execution_count": null,
   "id": "46c1f79d",
   "metadata": {},
   "outputs": [],
   "source": [
    "\n",
    "# Dispersión: bmi vs charges\n",
    "plt.figure()\n",
    "plt.scatter(df[\"bmi\"], df[\"charges\"], alpha=0.6)\n",
    "plt.title(\"bmi vs charges\")\n",
    "plt.xlabel(\"bmi\"); plt.ylabel(\"charges\")\n",
    "plt.show()\n"
   ]
  },
  {
   "cell_type": "code",
   "execution_count": null,
   "id": "eee0dd39",
   "metadata": {},
   "outputs": [],
   "source": [
    "\n",
    "# Boxplot: charges por smoker\n",
    "plt.figure()\n",
    "df.boxplot(column=\"charges\", by=\"smoker\")\n",
    "plt.title(\"Charges por 'smoker'\"); plt.suptitle(\"\")\n",
    "plt.xlabel(\"smoker\"); plt.ylabel(\"charges\")\n",
    "plt.show()\n"
   ]
  },
  {
   "cell_type": "code",
   "execution_count": null,
   "id": "6dbc40f9",
   "metadata": {},
   "outputs": [],
   "source": [
    "\n",
    "# Boxplot: charges por region\n",
    "plt.figure()\n",
    "df.boxplot(column=\"charges\", by=\"region\", rot=0)\n",
    "plt.title(\"Charges por 'region'\"); plt.suptitle(\"\")\n",
    "plt.xlabel(\"region\"); plt.ylabel(\"charges\")\n",
    "plt.show()\n"
   ]
  },
  {
   "cell_type": "markdown",
   "id": "bec5407c",
   "metadata": {},
   "source": [
    "## 7) Visualizaciones multivariadas"
   ]
  },
  {
   "cell_type": "code",
   "execution_count": null,
   "id": "e1f75efd",
   "metadata": {},
   "outputs": [],
   "source": [
    "\n",
    "# Facetas: relación bmi-charges, separado por 'smoker'\n",
    "g = sns.FacetGrid(df, col=\"smoker\", height=4)\n",
    "g.map(plt.scatter, \"bmi\", \"charges\", alpha=0.6)\n",
    "g.add_legend()\n",
    "plt.show()\n"
   ]
  },
  {
   "cell_type": "code",
   "execution_count": null,
   "id": "e122f29d",
   "metadata": {},
   "outputs": [],
   "source": [
    "\n",
    "# Facetas 2: charges vs age por categoría de bmi\n",
    "g = sns.FacetGrid(df, col=\"bmi_cat\", col_wrap=2, height=3.5, sharey=False)\n",
    "g.map(plt.scatter, \"age\", \"charges\", alpha=0.6)\n",
    "g.add_legend()\n",
    "plt.show()\n"
   ]
  },
  {
   "cell_type": "code",
   "execution_count": null,
   "id": "818bcbba",
   "metadata": {},
   "outputs": [],
   "source": [
    "\n",
    "# Matriz de correlación (numéricas)\n",
    "num_cols = [\"age\", \"bmi\", \"children\", \"charges\"]\n",
    "corr = df[num_cols].corr()\n",
    "plt.figure()\n",
    "plt.imshow(corr, cmap=\"viridis\")\n",
    "plt.colorbar()\n",
    "plt.xticks(range(len(num_cols)), num_cols, rotation=45)\n",
    "plt.yticks(range(len(num_cols)), num_cols)\n",
    "plt.title(\"Matriz de correlación (numéricas)\")\n",
    "for i in range(len(num_cols)):\n",
    "    for j in range(len(num_cols)):\n",
    "        plt.text(j, i, f\"{corr.iloc[i,j]:.2f}\", ha=\"center\", va=\"center\")\n",
    "plt.tight_layout()\n",
    "plt.show()\n"
   ]
  },
  {
   "cell_type": "markdown",
   "id": "f1dfc54f",
   "metadata": {},
   "source": [
    "## 8) Filtros y segmentaciones (query / loc)"
   ]
  },
  {
   "cell_type": "code",
   "execution_count": null,
   "id": "6c06c000",
   "metadata": {},
   "outputs": [],
   "source": [
    "\n",
    "# Filtro: fumadores con BMI > 30\n",
    "f1 = df.query(\"smoker == 'yes' and bmi > 30\")\n",
    "f1.head()\n"
   ]
  },
  {
   "cell_type": "code",
   "execution_count": null,
   "id": "b7d3f105",
   "metadata": {},
   "outputs": [],
   "source": [
    "\n",
    "# Filtro múltiple: región 'southeast' y al menos 2 hijos\n",
    "f2 = df[(df[\"region\"] == \"southeast\") & (df[\"children\"] >= 2)]\n",
    "f2.head()\n"
   ]
  },
  {
   "cell_type": "markdown",
   "id": "b7d92a35",
   "metadata": {},
   "source": [
    "## 9) Agrupaciones (groupby), comparaciones y tablas pivote"
   ]
  },
  {
   "cell_type": "code",
   "execution_count": null,
   "id": "717def11",
   "metadata": {},
   "outputs": [],
   "source": [
    "\n",
    "# Promedio de charges por smoker\n",
    "grp1 = df.groupby(\"smoker\")[\"charges\"].agg([\"count\",\"mean\",\"median\",\"std\"]).reset_index()\n",
    "grp1\n"
   ]
  },
  {
   "cell_type": "code",
   "execution_count": null,
   "id": "41e72d9e",
   "metadata": {},
   "outputs": [],
   "source": [
    "\n",
    "# Promedio de charges por región y fumador\n",
    "grp2 = df.groupby([\"region\",\"smoker\"])[\"charges\"].mean().unstack()\n",
    "grp2\n"
   ]
  },
  {
   "cell_type": "code",
   "execution_count": null,
   "id": "fe5947a0",
   "metadata": {},
   "outputs": [],
   "source": [
    "\n",
    "# Tabla pivote: media de charges por (region x bmi_cat)\n",
    "pv = pd.pivot_table(df, values=\"charges\", index=\"region\", columns=\"bmi_cat\",\n",
    "                    aggfunc=\"mean\", fill_value=0)\n",
    "pv\n"
   ]
  },
  {
   "cell_type": "code",
   "execution_count": null,
   "id": "5e0652de",
   "metadata": {},
   "outputs": [],
   "source": [
    "\n",
    "# Gráfico de barras apiladas a partir de la pivote (media charges por region x bmi_cat)\n",
    "plt.figure()\n",
    "pv.plot(kind=\"bar\", stacked=True)\n",
    "plt.title(\"Media de charges por región y categoría de BMI\")\n",
    "plt.xlabel(\"region\"); plt.ylabel(\"media de charges\")\n",
    "plt.tight_layout()\n",
    "plt.show()\n"
   ]
  },
  {
   "cell_type": "markdown",
   "id": "3aef156b",
   "metadata": {},
   "source": [
    "## 10) Combinaciones útiles: grid de gráficos"
   ]
  },
  {
   "cell_type": "code",
   "execution_count": null,
   "id": "74b04724",
   "metadata": {},
   "outputs": [],
   "source": [
    "\n",
    "# Grid 2x2 con diferentes vistas de 'charges'\n",
    "fig, axes = plt.subplots(2,2, figsize=(10,8))\n",
    "\n",
    "axes[0,0].hist(df[\"charges\"], bins=30)\n",
    "axes[0,0].set_title(\"Hist charges\")\n",
    "\n",
    "axes[0,1].scatter(df[\"bmi\"], df[\"charges\"], alpha=0.5)\n",
    "axes[0,1].set_title(\"bmi vs charges\")\n",
    "\n",
    "df_seguros.boxplot(column=\"charges\", by=\"smoker\", ax=axes[1,0])\n",
    "axes[1,0].set_title(\"charges por smoker\")\n",
    "axes[1,0].figure.suptitle(\"\")\n",
    "\n",
    "df_seguros.boxplot(column=\"charges\", by=\"region\", ax=axes[1,1])\n",
    "axes[1,1].set_title(\"charges por region\")\n",
    "axes[1,1].figure.suptitle(\"\")\n",
    "\n",
    "plt.tight_layout()\n",
    "plt.show()\n"
   ]
  },
  {
   "cell_type": "markdown",
   "id": "77cb802b",
   "metadata": {},
   "source": [
    "## 11) Guardar figuras en disco (para informes)"
   ]
  },
  {
   "cell_type": "code",
   "execution_count": null,
   "id": "e4cf4c31",
   "metadata": {},
   "outputs": [],
   "source": [
    "\n",
    "import os\n",
    "os.makedirs(\"figs\", exist_ok=True)\n",
    "\n",
    "plt.figure()\n",
    "plt.hist(df[\"charges\"], bins=30)\n",
    "plt.title(\"Distribución de charges\")\n",
    "plt.savefig(\"figs/hist_charges.png\", dpi=150, bbox_inches=\"tight\")\n",
    "plt.close()\n",
    "\n",
    "print(\"Figura guardada en figs/hist_charges.png\")\n"
   ]
  },
  {
   "cell_type": "markdown",
   "id": "15cfefca",
   "metadata": {},
   "source": [
    "\n",
    "## 12) Retos (para practicar)\n",
    "\n",
    "1. **Comparar impacto del tabaquismo por región:**  \n",
    "   Calcula `mean`, `median` y `std` de `charges` por `smoker` dentro de cada `region`.  \n",
    "   Luego, grafica un **bar chart** de las medias para comparar.\n",
    "\n",
    "2. **Efecto de la edad por categorías de IMC:**  \n",
    "   Crea grupos de edad (por ejemplo: `<=30`, `31-45`, `>45`) y calcula la media de `charges` por (`bmi_cat`, `grupo_edad`).  \n",
    "   Grafica con barras agrupadas.\n",
    "\n",
    "3. **Top 10 clientes por charges** y su perfil:  \n",
    "   Muestra un `df.nlargest(10, \"charges\")` con `age`, `bmi`, `smoker`, `region`.  \n",
    "   Haz un gráfico de barras horizontal con sus `charges`.\n",
    "\n",
    "4. **Detección simple de outliers en charges:**  \n",
    "   Calcula Q1, Q3 e IQR; considera outlier si `charges < Q1 - 1.5*IQR` o `> Q3 + 1.5*IQR`.  \n",
    "   ¿Qué porcentaje de registros resulta outlier?\n",
    "\n",
    "5. **Mapa de calor simple de medias:**  \n",
    "   Usa una tabla pivote de `charges` por `smoker` y `region` y plótala con `plt.imshow`.  \n",
    "   Añade anotaciones con los valores.\n",
    "\n",
    "> Tip: evita “hardcodear” categorías; usa `df[\"col\"].unique()` para que tu código sea robusto.\n"
   ]
  },
  {
   "cell_type": "markdown",
   "id": "ee70b044",
   "metadata": {},
   "source": [
    "## 13) Bonus: Funciones reutilizables / pipeline simple"
   ]
  },
  {
   "cell_type": "code",
   "execution_count": null,
   "id": "79f86b59",
   "metadata": {},
   "outputs": [],
   "source": [
    "\n",
    "def resumen_num(df, cols):\n",
    "    return df[cols].describe()\n",
    "\n",
    "def graf_boxplot_por_cat(df, col_num, col_cat):\n",
    "    plt.figure()\n",
    "    df.boxplot(column=col_num, by=col_cat, rot=0)\n",
    "    plt.title(f\"{col_num} por {col_cat}\"); plt.suptitle(\"\")\n",
    "    plt.show()\n",
    "\n",
    "# Ejemplo de uso:\n",
    "resumen_num(df, [\"age\",\"bmi\",\"children\",\"charges\"])\n",
    "# graf_boxplot_por_cat(df, \"charges\", \"region\")\n"
   ]
  },
  {
   "cell_type": "markdown",
   "id": "cb852b97",
   "metadata": {},
   "source": [
    "\n",
    "---\n",
    "\n",
    "### Siguientes pasos sugeridos\n",
    "- Replicar este análisis con un subconjunto filtrado (por ejemplo, solo `smoker == \"yes\"`).\n",
    "- Exportar métricas agregadas a CSV para un informe.\n",
    "- Crear un **README** con capturas de los gráficos generados.\n",
    "\n",
    "> ¿Listo para más? Prueba integrar este EDA con un **modelo simple** (regresión lineal) para explicar `charges` en función de `age`, `bmi`, `smoker`, etc.\n"
   ]
  },
  {
   "cell_type": "code",
   "execution_count": 1,
   "id": "9f9bae6d",
   "metadata": {},
   "outputs": [
    {
     "ename": "NameError",
     "evalue": "name 'df_seguros' is not defined",
     "output_type": "error",
     "traceback": [
      "\u001b[31m---------------------------------------------------------------------------\u001b[39m",
      "\u001b[31mNameError\u001b[39m                                 Traceback (most recent call last)",
      "\u001b[36mCell\u001b[39m\u001b[36m \u001b[39m\u001b[32mIn[1]\u001b[39m\u001b[32m, line 2\u001b[39m\n\u001b[32m      1\u001b[39m \u001b[38;5;66;03m# Filtrar solo fumadores\u001b[39;00m\n\u001b[32m----> \u001b[39m\u001b[32m2\u001b[39m df_smokers = \u001b[43mdf_seguros\u001b[49m[df_seguros[\u001b[33m\"\u001b[39m\u001b[33msmoker\u001b[39m\u001b[33m\"\u001b[39m] == \u001b[33m\"\u001b[39m\u001b[33myes\u001b[39m\u001b[33m\"\u001b[39m]\n\u001b[32m      4\u001b[39m \u001b[38;5;28mprint\u001b[39m(\u001b[33mf\u001b[39m\u001b[33m\"\u001b[39m\u001b[33mTotal registros: \u001b[39m\u001b[38;5;132;01m{\u001b[39;00m\u001b[38;5;28mlen\u001b[39m(df_seguros)\u001b[38;5;132;01m}\u001b[39;00m\u001b[33m\"\u001b[39m)\n\u001b[32m      5\u001b[39m \u001b[38;5;28mprint\u001b[39m(\u001b[33mf\u001b[39m\u001b[33m\"\u001b[39m\u001b[33mTotal fumadores: \u001b[39m\u001b[38;5;132;01m{\u001b[39;00m\u001b[38;5;28mlen\u001b[39m(df_smokers)\u001b[38;5;132;01m}\u001b[39;00m\u001b[33m\"\u001b[39m)\n",
      "\u001b[31mNameError\u001b[39m: name 'df_seguros' is not defined"
     ]
    }
   ],
   "source": [
    "# Filtrar solo fumadores\n",
    "df_smokers = df_seguros[df_seguros[\"smoker\"] == \"yes\"]\n",
    "\n",
    "print(f\"Total registros: {len(df_seguros)}\")\n",
    "print(f\"Total fumadores: {len(df_smokers)}\")\n",
    "\n",
    "# Ejemplo: histograma de charges solo para fumadores\n",
    "plt.figure(figsize=(7,4))\n",
    "sns.histplot(df_smokers[\"charges\"], kde=True, bins=20)\n",
    "plt.title(\"Distribución de Charges - Fumadores\")\n",
    "plt.xlabel(\"Charges\")\n",
    "plt.ylabel(\"Frecuencia\")\n",
    "plt.show()\n",
    "\n",
    "# Ejemplo: boxplot por región solo para fumadores\n",
    "plt.figure(figsize=(7,4))\n",
    "sns.boxplot(x=\"region\", y=\"charges\", data=df_smokers)\n",
    "plt.title(\"Charges por región - Fumadores\")\n",
    "plt.show()"
   ]
  }
 ],
 "metadata": {
  "kernelspec": {
   "display_name": "Python 3",
   "language": "python",
   "name": "python3"
  },
  "language_info": {
   "codemirror_mode": {
    "name": "ipython",
    "version": 3
   },
   "file_extension": ".py",
   "mimetype": "text/x-python",
   "name": "python",
   "nbconvert_exporter": "python",
   "pygments_lexer": "ipython3",
   "version": "3.13.2"
  }
 },
 "nbformat": 4,
 "nbformat_minor": 5
}
