{
 "cells": [
  {
   "cell_type": "markdown",
   "id": "690e233e",
   "metadata": {},
   "source": [
    "CONTRO DE CAMBIOS CON GIT\n",
    "\n",
    "Conceptos :\n",
    "\n",
    "    - Repositorio: Espacio donde vive tu historial de cambios.\n",
    "    - Commit: Punto guardado de tu proyecto.\n",
    "    - Branch: Línea de desarrollo independiente.\n",
    "    - Pull/Push: Bajar y subir cambios a un repositorio remoto (GitHub, GitLab, etc.)."
   ]
  },
  {
   "cell_type": "code",
   "execution_count": null,
   "id": "ef6b0482",
   "metadata": {},
   "outputs": [],
   "source": [
    "## 📌 1. Configuración inicial de Git\n",
    "\n",
    "#git init\n",
    "!git config --global unser.name \"Nicolas.Garcia\"\n",
    "!git config --global user.email \"ngarciad@gmail.com\"\n"
   ]
  },
  {
   "cell_type": "code",
   "execution_count": 10,
   "id": "599fead7",
   "metadata": {},
   "outputs": [
    {
     "name": "stdout",
     "output_type": "stream",
     "text": [
      "Entorno listo ✅\n"
     ]
    }
   ],
   "source": [
    "## 📌 2. Preparar entorno de trabajo\n",
    "# Ejemplo: importar librerías base\n",
    "import pandas as pd\n",
    "import numpy as np\n",
    "\n",
    "print(\"Entorno listo ✅\")"
   ]
  },
  {
   "cell_type": "code",
   "execution_count": null,
   "id": "a1001dd2",
   "metadata": {},
   "outputs": [],
   "source": [
    "##📌 3. Desarrollo y pruebas\n",
    "# Ejemplo: código inicial de prueba\n",
    "df = pd.DataFrame({\n",
    "    \"Producto\": [\"A\", \"B\", \"C\"],\n",
    "    \"Precio\": [100, 200, 300]\n",
    "})\n",
    "df"
   ]
  },
  {
   "cell_type": "code",
   "execution_count": null,
   "id": "d32cef42",
   "metadata": {},
   "outputs": [],
   "source": [
    "##📌 4. Guardar cambios en Git\n",
    "!git status\n",
    "!git add .\n",
    "!git commit -m \"Primer commit: estructura inicial\"\n"
   ]
  }
 ],
 "metadata": {
  "kernelspec": {
   "display_name": "Python 3",
   "language": "python",
   "name": "python3"
  },
  "language_info": {
   "codemirror_mode": {
    "name": "ipython",
    "version": 3
   },
   "file_extension": ".py",
   "mimetype": "text/x-python",
   "name": "python",
   "nbconvert_exporter": "python",
   "pygments_lexer": "ipython3",
   "version": "3.13.2"
  }
 },
 "nbformat": 4,
 "nbformat_minor": 5
}
